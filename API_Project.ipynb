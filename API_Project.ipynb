{
 "cells": [
  {
   "cell_type": "markdown",
   "id": "1afd5ff4-2456-46ac-b4a6-8eca819c8d77",
   "metadata": {},
   "source": [
    "# API Project"
   ]
  },
  {
   "cell_type": "markdown",
   "id": "21a98cd1-f2d3-45f5-af76-5bb9d24cba55",
   "metadata": {},
   "source": [
    "In this project, we will work with **A**pplication **P**rogramming **I**nterface (or API, for short). \n",
    "\n",
    "I have selected the API named YouTube Data API v3, which is an API that provides access to YouTube data, such as videos, playlists, and channels."
   ]
  },
  {
   "cell_type": "markdown",
   "id": "a28f1e15-8171-4796-9bc8-9995509a3129",
   "metadata": {
    "tags": []
   },
   "source": [
    "## Table of contents\n",
    "* Importing required libraries \n",
    "* API Key\n",
    "* Definition of URL and its parameters\n",
    "* Getting Response from URL\n",
    "* Extracting useful data from the response\n",
    "* Storing data in Pandas DataFrame\n",
    "* Resulting DataFrame\n",
    "* Exporting the data to CSV file"
   ]
  },
  {
   "cell_type": "markdown",
   "id": "0541eb43-6870-446e-9307-1a8c9324453f",
   "metadata": {},
   "source": [
    "## Importing required libraries"
   ]
  },
  {
   "cell_type": "code",
   "execution_count": 84,
   "id": "ca5b6c4e-5bd5-48d1-b339-6128e3602f19",
   "metadata": {},
   "outputs": [],
   "source": [
    "import json\n",
    "import pandas as pd\n",
    "import requests\n",
    "import os"
   ]
  },
  {
   "cell_type": "markdown",
   "id": "163971c8-0e45-47f3-aed7-bea70565e59e",
   "metadata": {},
   "source": [
    "## API Key"
   ]
  },
  {
   "cell_type": "code",
   "execution_count": 85,
   "id": "1540a3d0-2cd8-4261-aeed-0b21570d1b2e",
   "metadata": {},
   "outputs": [],
   "source": [
    "# We will input API Key as temporary Jupyter environment variable\n",
    "os.environ[\"YOUTUBE_API_KEY\"] = open(\"YOUTUBE_API_KEY.txt\").readlines()[0]"
   ]
  },
  {
   "cell_type": "code",
   "execution_count": 86,
   "id": "df515643-02d0-4b9d-b41b-ecb9c983dc31",
   "metadata": {
    "collapsed": true,
    "jupyter": {
     "outputs_hidden": true
    },
    "tags": []
   },
   "outputs": [
    {
     "data": {
      "text/plain": [
       "{'ACCESS_TOKEN_SECRET_TWITTER': '<hidden>',\n",
       " 'ACCESS_TOKEN_TWITTER': '<hidden>',\n",
       " 'ALLUSERSPROFILE': 'C:\\\\ProgramData',\n",
       " 'API_KEY_SECRET_TWITTER': '<hidden>',\n",
       " 'API_KEY_TWITTER': '<hidden>',\n",
       " 'APPDATA': 'C:\\\\Users\\\\yutinghu\\\\AppData\\\\Roaming',\n",
       " 'BEARER_TOKEN_TWITTER': '<hidden>',\n",
       " 'COMMONPROGRAMFILES': 'C:\\\\Program Files\\\\Common Files',\n",
       " 'COMMONPROGRAMFILES(X86)': 'C:\\\\Program Files (x86)\\\\Common Files',\n",
       " 'COMMONPROGRAMW6432': 'C:\\\\Program Files\\\\Common Files',\n",
       " 'COMPUTERNAME': 'BCN1-5CG1196TFJ',\n",
       " 'COMSPEC': 'C:\\\\WINDOWS\\\\system32\\\\cmd.exe',\n",
       " 'CONDA_DEFAULT_ENV': 'base',\n",
       " 'CONDA_EXE': 'C:\\\\Users\\\\yutinghu\\\\Anaconda3\\\\Scripts\\\\conda.exe',\n",
       " 'CONDA_PROMPT_MODIFIER': '(base) ',\n",
       " 'CONDA_PYTHON_EXE': 'C:\\\\Users\\\\yutinghu\\\\Anaconda3\\\\python.exe',\n",
       " 'CONDA_SHLVL': '1',\n",
       " 'DRIVERDATA': 'C:\\\\Windows\\\\System32\\\\Drivers\\\\DriverData',\n",
       " 'HOMEDRIVE': 'C:',\n",
       " 'HOMEPATH': '\\\\Users\\\\yutinghu',\n",
       " 'JAVA_TOOLS_OPTIONS': '-Dlog4j2.formatMsgNoLookups=true',\n",
       " 'JAVA_TOOL_OPTIONS': '-Dlog4j2.formatMsgNoLookups=true',\n",
       " 'LOCALAPPDATA': 'C:\\\\Users\\\\yutinghu\\\\AppData\\\\Local',\n",
       " 'LOGONSERVER': '\\\\\\\\DC-EUW1B-04',\n",
       " 'NUMBER_OF_PROCESSORS': '12',\n",
       " 'ONEDRIVE': 'C:\\\\Users\\\\yutinghu\\\\OneDrive',\n",
       " 'OS': 'Windows_NT',\n",
       " 'PATH': 'C:\\\\Users\\\\yutinghu\\\\Anaconda3;C:\\\\Users\\\\yutinghu\\\\Anaconda3\\\\Library\\\\mingw-w64\\\\bin;C:\\\\Users\\\\yutinghu\\\\Anaconda3\\\\Library\\\\usr\\\\bin;C:\\\\Users\\\\yutinghu\\\\Anaconda3\\\\Library\\\\bin;C:\\\\Users\\\\yutinghu\\\\Anaconda3\\\\Scripts;C:\\\\Users\\\\yutinghu\\\\Anaconda3\\\\bin;C:\\\\Users\\\\yutinghu\\\\Anaconda3\\\\condabin;C:\\\\Users\\\\yutinghu\\\\Anaconda3;C:\\\\Users\\\\yutinghu\\\\Anaconda3\\\\Library\\\\mingw-w64\\\\bin;C:\\\\Users\\\\yutinghu\\\\Anaconda3\\\\Library\\\\usr\\\\bin;C:\\\\Users\\\\yutinghu\\\\Anaconda3\\\\Library\\\\bin;C:\\\\Users\\\\yutinghu\\\\Anaconda3\\\\Scripts;C:\\\\Program Files (x86)\\\\Common Files\\\\Oracle\\\\Java\\\\javapath;C:\\\\Program Files\\\\itacsvc;C:\\\\WINDOWS\\\\system32;C:\\\\WINDOWS;C:\\\\WINDOWS\\\\System32\\\\Wbem;C:\\\\WINDOWS\\\\System32\\\\WindowsPowerShell\\\\v1.0;C:\\\\WINDOWS\\\\System32\\\\OpenSSH;C:\\\\Program Files\\\\PuTTY;C:\\\\Program Files\\\\Git\\\\cmd;C:\\\\Program Files (x86)\\\\Quarantine;C:\\\\Program Files (x86)\\\\ACMEGuardian;C:\\\\Program Files\\\\MySQL\\\\MySQL Shell 8.0\\\\bin;C:\\\\Users\\\\yutinghu\\\\AppData\\\\Local\\\\Microsoft\\\\WindowsApps;.;C:\\\\Users\\\\yutinghu\\\\AppData\\\\Local\\\\Programs\\\\Microsoft VS Code\\\\bin',\n",
       " 'PATHEXT': '.COM;.EXE;.BAT;.CMD;.VBS;.VBE;.JS;.JSE;.WSF;.WSH;.MSC',\n",
       " 'PROCESSOR_ARCHITECTURE': 'AMD64',\n",
       " 'PROCESSOR_IDENTIFIER': 'AMD64 Family 23 Model 96 Stepping 1, AuthenticAMD',\n",
       " 'PROCESSOR_LEVEL': '23',\n",
       " 'PROCESSOR_REVISION': '6001',\n",
       " 'PROGRAMDATA': 'C:\\\\ProgramData',\n",
       " 'PROGRAMFILES': 'C:\\\\Program Files',\n",
       " 'PROGRAMFILES(X86)': 'C:\\\\Program Files (x86)',\n",
       " 'PROGRAMW6432': 'C:\\\\Program Files',\n",
       " 'PROMPT': '(base) $P$G',\n",
       " 'PSMODULEPATH': 'C:\\\\Program Files\\\\WindowsPowerShell\\\\Modules;C:\\\\WINDOWS\\\\system32\\\\WindowsPowerShell\\\\v1.0\\\\Modules',\n",
       " 'PUBLIC': 'C:\\\\Users\\\\Public',\n",
       " 'SESSIONNAME': 'Console',\n",
       " 'SPOTIPY_CLIENT_ID': '5ccd28e103cf445fa560a6375e014fd8',\n",
       " 'SPOTIPY_CLIENT_SECRET': '<hidden>',\n",
       " 'SYSTEMDRIVE': 'C:',\n",
       " 'SYSTEMROOT': 'C:\\\\WINDOWS',\n",
       " 'TEMP': 'C:\\\\Users\\\\yutinghu\\\\AppData\\\\Local\\\\Temp',\n",
       " 'TMP': 'C:\\\\Users\\\\yutinghu\\\\AppData\\\\Local\\\\Temp',\n",
       " 'UATDATA': 'C:\\\\WINDOWS\\\\CCM\\\\UATData\\\\D9F8C395-CAB8-491d-B8AC-179A1FE1BE77',\n",
       " 'USERDNSDOMAIN': 'ANT.AMAZON.COM',\n",
       " 'USERDOMAIN': 'ANT',\n",
       " 'USERDOMAIN_ROAMINGPROFILE': 'ANT',\n",
       " 'USERNAME': 'yutinghu',\n",
       " 'USERPROFILE': 'C:\\\\Users\\\\yutinghu',\n",
       " 'WINDIR': 'C:\\\\WINDOWS',\n",
       " 'CONDA_PREFIX': 'C:\\\\Users\\\\yutinghu\\\\Anaconda3',\n",
       " 'CONDA_ROOT': 'C:\\\\Users\\\\yutinghu\\\\Anaconda3',\n",
       " 'PYDEVD_USE_FRAME_EVAL': 'NO',\n",
       " 'JPY_INTERRUPT_EVENT': '8032',\n",
       " 'IPY_INTERRUPT_EVENT': '8032',\n",
       " 'JPY_PARENT_PID': '7592',\n",
       " 'TERM': 'xterm-color',\n",
       " 'CLICOLOR': '1',\n",
       " 'PAGER': 'cat',\n",
       " 'GIT_PAGER': 'cat',\n",
       " 'MPLBACKEND': 'module://matplotlib_inline.backend_inline',\n",
       " 'YOUTUBE_API_KEY': '<hidden>'}"
      ]
     },
     "execution_count": 86,
     "metadata": {},
     "output_type": "execute_result"
    }
   ],
   "source": [
    "#checking it was successful\n",
    "%env"
   ]
  },
  {
   "cell_type": "code",
   "execution_count": 87,
   "id": "18cbc014-1ca0-4bf2-848f-df4df1d086e2",
   "metadata": {},
   "outputs": [],
   "source": [
    "API_KEY = os.getenv(\"YOUTUBE_API_KEY\")"
   ]
  },
  {
   "cell_type": "markdown",
   "id": "7480ba90-50c8-4b91-b4f7-105d2b6200b2",
   "metadata": {},
   "source": [
    "## Definition of URL and its parameters"
   ]
  },
  {
   "cell_type": "code",
   "execution_count": 88,
   "id": "683565ed-5074-45eb-a4fe-bf36453bcace",
   "metadata": {},
   "outputs": [],
   "source": [
    "parameters = {'key': API_KEY,\n",
    "              'channelId': 'UCWD3Q1-d9vzxt1cXUmpbjqg',\n",
    "              'part': 'snippet,id',\n",
    "              'order': 'date',\n",
    "              'maxResults': 50,\n",
    "             }\n",
    "url = \"https://www.googleapis.com/youtube/v3/search\""
   ]
  },
  {
   "cell_type": "markdown",
   "id": "88f04dc3-f776-4f84-b364-6508e8096208",
   "metadata": {},
   "source": [
    "## Getting Response from URL"
   ]
  },
  {
   "cell_type": "markdown",
   "id": "1d16a536-fd79-4751-a5aa-8d51ea487e89",
   "metadata": {},
   "source": [
    "Now, we will launch the request of information to the API throught GET, and show its response in JSON format"
   ]
  },
  {
   "cell_type": "code",
   "execution_count": 89,
   "id": "49fb0ea2-44f3-49e6-b601-4d5ec76609c3",
   "metadata": {},
   "outputs": [
    {
     "data": {
      "text/plain": [
       "200"
      ]
     },
     "execution_count": 89,
     "metadata": {},
     "output_type": "execute_result"
    }
   ],
   "source": [
    "response = requests.get(\n",
    "    url, \n",
    "    params=parameters\n",
    ")\n",
    "\n",
    "# checking server status code is successful:\n",
    "response.status_code"
   ]
  },
  {
   "cell_type": "code",
   "execution_count": 90,
   "id": "ca0a8536-ad5a-433a-9630-1427016959ec",
   "metadata": {
    "tags": []
   },
   "outputs": [],
   "source": [
    "response = response.json()"
   ]
  },
  {
   "cell_type": "markdown",
   "id": "9a4ee8fc-57c6-4fb4-8b55-8919464af517",
   "metadata": {},
   "source": [
    "## Extracting useful data from the response"
   ]
  },
  {
   "cell_type": "code",
   "execution_count": 91,
   "id": "8dd9128b-933a-443f-92dc-ff6068754619",
   "metadata": {
    "tags": []
   },
   "outputs": [
    {
     "data": {
      "text/plain": [
       "{'kind': 'youtube#searchResult',\n",
       " 'etag': 'mSS-o0m_QYFV4EjiRXypPlVUI_0',\n",
       " 'id': {'kind': 'youtube#video', 'videoId': '0lRyVSDrY4s'},\n",
       " 'snippet': {'publishedAt': '2022-06-08T14:59:34Z',\n",
       "  'channelId': 'UCWD3Q1-d9vzxt1cXUmpbjqg',\n",
       "  'title': 'De manucure à développeuse web',\n",
       "  'description': '\"C\\'est comme apprendre une nouvelle langue\". - Elle, c\\'est Mathilde et elle vient de quitter son job de manucure dans un salon ...',\n",
       "  'thumbnails': {'default': {'url': 'https://i.ytimg.com/vi/0lRyVSDrY4s/default.jpg',\n",
       "    'width': 120,\n",
       "    'height': 90},\n",
       "   'medium': {'url': 'https://i.ytimg.com/vi/0lRyVSDrY4s/mqdefault.jpg',\n",
       "    'width': 320,\n",
       "    'height': 180},\n",
       "   'high': {'url': 'https://i.ytimg.com/vi/0lRyVSDrY4s/hqdefault.jpg',\n",
       "    'width': 480,\n",
       "    'height': 360}},\n",
       "  'channelTitle': 'Ironhack',\n",
       "  'liveBroadcastContent': 'none',\n",
       "  'publishTime': '2022-06-08T14:59:34Z'}}"
      ]
     },
     "execution_count": 91,
     "metadata": {},
     "output_type": "execute_result"
    }
   ],
   "source": [
    "# Checking content of first element within 'items'\n",
    "response['items'][0]"
   ]
  },
  {
   "cell_type": "markdown",
   "id": "b9e81945-4630-468d-9617-fe23799e7c86",
   "metadata": {
    "tags": []
   },
   "source": [
    "Our basis to get useful data will be based on following information:\n",
    "- **videoID** : video identification code\n",
    "- **video_title** : video title text\n",
    "- publishedAt : timestamp at which video was published, from which we will extract both date (**published_date**) and time (**published_time**)\n",
    "- **video_link**: URL to access each video"
   ]
  },
  {
   "cell_type": "code",
   "execution_count": 92,
   "id": "a8b5918d-bb06-44e4-bcdc-143f011b178d",
   "metadata": {},
   "outputs": [
    {
     "data": {
      "text/plain": [
       "'0lRyVSDrY4s'"
      ]
     },
     "execution_count": 92,
     "metadata": {},
     "output_type": "execute_result"
    }
   ],
   "source": [
    "# parsing video_id for first element within 'items'\n",
    "video_id = response['items'][0]['id']['videoId']\n",
    "video_id"
   ]
  },
  {
   "cell_type": "code",
   "execution_count": 93,
   "id": "f57ec96f-989e-44e6-a826-52d592a8fb8f",
   "metadata": {},
   "outputs": [
    {
     "data": {
      "text/plain": [
       "'De manucure à développeuse web'"
      ]
     },
     "execution_count": 93,
     "metadata": {},
     "output_type": "execute_result"
    }
   ],
   "source": [
    "# parsing video_title for first element within 'items'\n",
    "video_title = response['items'][0]['snippet']['title']\n",
    "video_title"
   ]
  },
  {
   "cell_type": "code",
   "execution_count": 94,
   "id": "d8253f83-8897-4a0b-b0a9-4b065b762ce9",
   "metadata": {},
   "outputs": [
    {
     "data": {
      "text/plain": [
       "'2022-06-08'"
      ]
     },
     "execution_count": 94,
     "metadata": {},
     "output_type": "execute_result"
    }
   ],
   "source": [
    "# parsing published_date for first element within 'items'\n",
    "published_date = response['items'][0]['snippet']['publishedAt'].split('T')[0]\n",
    "published_date"
   ]
  },
  {
   "cell_type": "code",
   "execution_count": 95,
   "id": "df16175a-55dd-48dd-9afa-1a0e4992dfb9",
   "metadata": {},
   "outputs": [
    {
     "data": {
      "text/plain": [
       "'14:59:34'"
      ]
     },
     "execution_count": 95,
     "metadata": {},
     "output_type": "execute_result"
    }
   ],
   "source": [
    "# parsing published_time for first element within 'items'\n",
    "published_time = response['items'][0]['snippet']['publishedAt'].split('T')[1].split('Z')[0]\n",
    "published_time"
   ]
  },
  {
   "cell_type": "code",
   "execution_count": 96,
   "id": "e725c845-acc8-4644-a607-eec1bc011b39",
   "metadata": {},
   "outputs": [
    {
     "data": {
      "text/plain": [
       "'https://www.youtube.com/watch?v=0lRyVSDrY4s'"
      ]
     },
     "execution_count": 96,
     "metadata": {},
     "output_type": "execute_result"
    }
   ],
   "source": [
    "# getting video_link for first element within 'items'\n",
    "video_link = 'https://www.youtube.com/watch?v='+video_id\n",
    "video_link"
   ]
  },
  {
   "cell_type": "markdown",
   "id": "7a952922-63b1-4477-8157-5d335d4e7236",
   "metadata": {},
   "source": [
    "## Storing data in a DataFrame"
   ]
  },
  {
   "cell_type": "code",
   "execution_count": 97,
   "id": "a4db0843-2dcc-49d8-848c-8a8c7148816b",
   "metadata": {},
   "outputs": [],
   "source": [
    "# Creating function to extract the data we parsed for first element but for all videos in \n",
    "# JSON response and storing them in a DataFrame: \n",
    "\n",
    "def get_videos(video, ironhack_videos):\n",
    "    ironhack_videos = pd.DataFrame(columns=['video_id','video_title', 'published_date', 'published_time', 'video_link'])\n",
    "    for video in response['items']:\n",
    "        if video['id']['kind'] == \"youtube#video\":\n",
    "            video_id = video['id']['videoId']\n",
    "            video_title = video['snippet']['title']\n",
    "            published_date = video['snippet']['publishedAt'].split('T')[0]\n",
    "            published_time = video['snippet']['publishedAt'].split('T')[1].split('Z')[0]\n",
    "            video_link = 'https://www.youtube.com/watch?v='+video['id']['videoId']\n",
    "            ironhack_videos = ironhack_videos.append({\n",
    "                            'video_id':video_id,\n",
    "                            'video_title':video_title, \n",
    "                            'published_date':published_date, \n",
    "                            'published_time':published_time,\n",
    "                            'video_link':video_link\n",
    "                            }, \n",
    "                            ignore_index=True)\n",
    "    return ironhack_videos"
   ]
  },
  {
   "cell_type": "markdown",
   "id": "620cbf68-41a8-46a1-836f-268af830dc3f",
   "metadata": {},
   "source": [
    "## Resulting DataFrame"
   ]
  },
  {
   "cell_type": "code",
   "execution_count": 98,
   "id": "48f88bd7-4ff6-4cde-acdc-235d78048073",
   "metadata": {
    "tags": []
   },
   "outputs": [
    {
     "data": {
      "text/html": [
       "<div>\n",
       "<style scoped>\n",
       "    .dataframe tbody tr th:only-of-type {\n",
       "        vertical-align: middle;\n",
       "    }\n",
       "\n",
       "    .dataframe tbody tr th {\n",
       "        vertical-align: top;\n",
       "    }\n",
       "\n",
       "    .dataframe thead th {\n",
       "        text-align: right;\n",
       "    }\n",
       "</style>\n",
       "<table border=\"1\" class=\"dataframe\">\n",
       "  <thead>\n",
       "    <tr style=\"text-align: right;\">\n",
       "      <th></th>\n",
       "      <th>video_id</th>\n",
       "      <th>video_title</th>\n",
       "      <th>published_date</th>\n",
       "      <th>published_time</th>\n",
       "      <th>video_link</th>\n",
       "    </tr>\n",
       "  </thead>\n",
       "  <tbody>\n",
       "    <tr>\n",
       "      <th>0</th>\n",
       "      <td>0lRyVSDrY4s</td>\n",
       "      <td>De manucure à développeuse web</td>\n",
       "      <td>2022-06-08</td>\n",
       "      <td>14:59:34</td>\n",
       "      <td>https://www.youtube.com/watch?v=0lRyVSDrY4s</td>\n",
       "    </tr>\n",
       "    <tr>\n",
       "      <th>1</th>\n",
       "      <td>jBjBEkUZIdY</td>\n",
       "      <td>Machine learning concepts and no code examples...</td>\n",
       "      <td>2022-06-06</td>\n",
       "      <td>10:49:55</td>\n",
       "      <td>https://www.youtube.com/watch?v=jBjBEkUZIdY</td>\n",
       "    </tr>\n",
       "    <tr>\n",
       "      <th>2</th>\n",
       "      <td>sRT9CJvCY54</td>\n",
       "      <td>Intro to Data Storytelling and Data Visualizat...</td>\n",
       "      <td>2022-06-06</td>\n",
       "      <td>10:43:40</td>\n",
       "      <td>https://www.youtube.com/watch?v=sRT9CJvCY54</td>\n",
       "    </tr>\n",
       "    <tr>\n",
       "      <th>3</th>\n",
       "      <td>6HO_NI6k7vI</td>\n",
       "      <td>Intro to web scraping : extracting data from T...</td>\n",
       "      <td>2022-06-06</td>\n",
       "      <td>10:27:38</td>\n",
       "      <td>https://www.youtube.com/watch?v=6HO_NI6k7vI</td>\n",
       "    </tr>\n",
       "    <tr>\n",
       "      <th>4</th>\n",
       "      <td>gBqfnOV-CIg</td>\n",
       "      <td>Introduction to Decision Trees - Machine Learn...</td>\n",
       "      <td>2022-06-06</td>\n",
       "      <td>10:25:08</td>\n",
       "      <td>https://www.youtube.com/watch?v=gBqfnOV-CIg</td>\n",
       "    </tr>\n",
       "    <tr>\n",
       "      <th>5</th>\n",
       "      <td>bXPrHLK2yXI</td>\n",
       "      <td>Python for Office: Automating Company Tasks</td>\n",
       "      <td>2022-06-06</td>\n",
       "      <td>10:15:26</td>\n",
       "      <td>https://www.youtube.com/watch?v=bXPrHLK2yXI</td>\n",
       "    </tr>\n",
       "    <tr>\n",
       "      <th>6</th>\n",
       "      <td>au6AHTk7qzQ</td>\n",
       "      <td>Data Analytics 101: Python Programming Basics ...</td>\n",
       "      <td>2022-06-06</td>\n",
       "      <td>10:07:37</td>\n",
       "      <td>https://www.youtube.com/watch?v=au6AHTk7qzQ</td>\n",
       "    </tr>\n",
       "    <tr>\n",
       "      <th>7</th>\n",
       "      <td>TdY_Re6eptQ</td>\n",
       "      <td>UX design at TomTom: user centered design in a...</td>\n",
       "      <td>2022-06-06</td>\n",
       "      <td>09:53:30</td>\n",
       "      <td>https://www.youtube.com/watch?v=TdY_Re6eptQ</td>\n",
       "    </tr>\n",
       "    <tr>\n",
       "      <th>8</th>\n",
       "      <td>GJVbYLUF2QQ</td>\n",
       "      <td>Conversational UX Design: How to Design for Er...</td>\n",
       "      <td>2022-06-06</td>\n",
       "      <td>09:43:35</td>\n",
       "      <td>https://www.youtube.com/watch?v=GJVbYLUF2QQ</td>\n",
       "    </tr>\n",
       "    <tr>\n",
       "      <th>9</th>\n",
       "      <td>d54kz0JO-Kc</td>\n",
       "      <td>Human-centered Design: Beyond Humans - Ironhac...</td>\n",
       "      <td>2022-06-06</td>\n",
       "      <td>09:44:30</td>\n",
       "      <td>https://www.youtube.com/watch?v=d54kz0JO-Kc</td>\n",
       "    </tr>\n",
       "    <tr>\n",
       "      <th>10</th>\n",
       "      <td>y_mLBYF3xBY</td>\n",
       "      <td>Build user-friendly apps: user flows &amp;amp; wir...</td>\n",
       "      <td>2022-06-06</td>\n",
       "      <td>09:28:34</td>\n",
       "      <td>https://www.youtube.com/watch?v=y_mLBYF3xBY</td>\n",
       "    </tr>\n",
       "    <tr>\n",
       "      <th>11</th>\n",
       "      <td>Q5QKljfeABA</td>\n",
       "      <td>Conversational UX Design Webinar: Build your O...</td>\n",
       "      <td>2022-06-06</td>\n",
       "      <td>09:28:48</td>\n",
       "      <td>https://www.youtube.com/watch?v=Q5QKljfeABA</td>\n",
       "    </tr>\n",
       "    <tr>\n",
       "      <th>12</th>\n",
       "      <td>l3wJt0i6Zsc</td>\n",
       "      <td>Build and Prototype an App using Figma - Ironh...</td>\n",
       "      <td>2022-06-06</td>\n",
       "      <td>09:17:57</td>\n",
       "      <td>https://www.youtube.com/watch?v=l3wJt0i6Zsc</td>\n",
       "    </tr>\n",
       "    <tr>\n",
       "      <th>13</th>\n",
       "      <td>cLlCg9s4OCY</td>\n",
       "      <td>Intro to UX : Customer Journey Mapping - Ironh...</td>\n",
       "      <td>2022-06-06</td>\n",
       "      <td>09:00:44</td>\n",
       "      <td>https://www.youtube.com/watch?v=cLlCg9s4OCY</td>\n",
       "    </tr>\n",
       "    <tr>\n",
       "      <th>14</th>\n",
       "      <td>kErzoIFSUE0</td>\n",
       "      <td>Looking at the Future — what designers need to...</td>\n",
       "      <td>2022-06-06</td>\n",
       "      <td>08:48:38</td>\n",
       "      <td>https://www.youtube.com/watch?v=kErzoIFSUE0</td>\n",
       "    </tr>\n",
       "    <tr>\n",
       "      <th>15</th>\n",
       "      <td>RTwzxIVhthI</td>\n",
       "      <td>An Introduction To The Design Thinking Process...</td>\n",
       "      <td>2022-06-06</td>\n",
       "      <td>08:43:49</td>\n",
       "      <td>https://www.youtube.com/watch?v=RTwzxIVhthI</td>\n",
       "    </tr>\n",
       "    <tr>\n",
       "      <th>16</th>\n",
       "      <td>xoqeBwMMVaQ</td>\n",
       "      <td>UI Design crash course with Figma - Ironhack T...</td>\n",
       "      <td>2022-05-25</td>\n",
       "      <td>17:13:45</td>\n",
       "      <td>https://www.youtube.com/watch?v=xoqeBwMMVaQ</td>\n",
       "    </tr>\n",
       "    <tr>\n",
       "      <th>17</th>\n",
       "      <td>47GcI9BgZ4c</td>\n",
       "      <td>¡Conoce nuestro servicio de carreras! - Ironha...</td>\n",
       "      <td>2022-05-25</td>\n",
       "      <td>13:16:12</td>\n",
       "      <td>https://www.youtube.com/watch?v=47GcI9BgZ4c</td>\n",
       "    </tr>\n",
       "    <tr>\n",
       "      <th>18</th>\n",
       "      <td>ugNVoNGAAh8</td>\n",
       "      <td>How to Start with Code and Get Hired - Ironhac...</td>\n",
       "      <td>2022-05-24</td>\n",
       "      <td>19:12:46</td>\n",
       "      <td>https://www.youtube.com/watch?v=ugNVoNGAAh8</td>\n",
       "    </tr>\n",
       "    <tr>\n",
       "      <th>19</th>\n",
       "      <td>S8K3tYu_hII</td>\n",
       "      <td>Ironhack Ed Tech Cofounder Predicts the Future...</td>\n",
       "      <td>2022-04-28</td>\n",
       "      <td>20:31:05</td>\n",
       "      <td>https://www.youtube.com/watch?v=S8K3tYu_hII</td>\n",
       "    </tr>\n",
       "    <tr>\n",
       "      <th>20</th>\n",
       "      <td>ZW1XScOjcgQ</td>\n",
       "      <td>Partnerships Manager Berlin</td>\n",
       "      <td>2022-04-28</td>\n",
       "      <td>17:20:28</td>\n",
       "      <td>https://www.youtube.com/watch?v=ZW1XScOjcgQ</td>\n",
       "    </tr>\n",
       "    <tr>\n",
       "      <th>21</th>\n",
       "      <td>0zlxp_s8vFk</td>\n",
       "      <td>Coding 101: how to write clean code - Ironhack...</td>\n",
       "      <td>2022-04-28</td>\n",
       "      <td>16:47:17</td>\n",
       "      <td>https://www.youtube.com/watch?v=0zlxp_s8vFk</td>\n",
       "    </tr>\n",
       "    <tr>\n",
       "      <th>22</th>\n",
       "      <td>iqMgAdS4V0M</td>\n",
       "      <td>Build a Budgeting App with Javascript - Ironha...</td>\n",
       "      <td>2022-04-28</td>\n",
       "      <td>16:47:07</td>\n",
       "      <td>https://www.youtube.com/watch?v=iqMgAdS4V0M</td>\n",
       "    </tr>\n",
       "    <tr>\n",
       "      <th>23</th>\n",
       "      <td>jUK0K0z4wKI</td>\n",
       "      <td>Coding for remote entrepreneurs: build your bu...</td>\n",
       "      <td>2022-04-28</td>\n",
       "      <td>14:12:48</td>\n",
       "      <td>https://www.youtube.com/watch?v=jUK0K0z4wKI</td>\n",
       "    </tr>\n",
       "    <tr>\n",
       "      <th>24</th>\n",
       "      <td>h7kYRZqzAl8</td>\n",
       "      <td>Build your own Cluedo game with JavaScript - I...</td>\n",
       "      <td>2022-04-28</td>\n",
       "      <td>13:50:33</td>\n",
       "      <td>https://www.youtube.com/watch?v=h7kYRZqzAl8</td>\n",
       "    </tr>\n",
       "    <tr>\n",
       "      <th>25</th>\n",
       "      <td>R8i2o-O10yI</td>\n",
       "      <td>Intro to Blockchain - Let&amp;#39;s cover (and cod...</td>\n",
       "      <td>2022-04-28</td>\n",
       "      <td>13:40:14</td>\n",
       "      <td>https://www.youtube.com/watch?v=R8i2o-O10yI</td>\n",
       "    </tr>\n",
       "    <tr>\n",
       "      <th>26</th>\n",
       "      <td>O9tog2ahXvc</td>\n",
       "      <td>Web Development in a remote environment : Intr...</td>\n",
       "      <td>2022-04-28</td>\n",
       "      <td>13:28:43</td>\n",
       "      <td>https://www.youtube.com/watch?v=O9tog2ahXvc</td>\n",
       "    </tr>\n",
       "    <tr>\n",
       "      <th>27</th>\n",
       "      <td>Z6VGDEqPdm0</td>\n",
       "      <td>Build a website in 60 minutes with HTML&amp;amp;CS...</td>\n",
       "      <td>2022-04-28</td>\n",
       "      <td>13:18:07</td>\n",
       "      <td>https://www.youtube.com/watch?v=Z6VGDEqPdm0</td>\n",
       "    </tr>\n",
       "    <tr>\n",
       "      <th>28</th>\n",
       "      <td>wNKkNDPYOjY</td>\n",
       "      <td>Build an e-commerce with JavaScript - Ironhack...</td>\n",
       "      <td>2022-04-28</td>\n",
       "      <td>12:36:08</td>\n",
       "      <td>https://www.youtube.com/watch?v=wNKkNDPYOjY</td>\n",
       "    </tr>\n",
       "    <tr>\n",
       "      <th>29</th>\n",
       "      <td>yIBpyfJevro</td>\n",
       "      <td>Build a Spotify with JavaScript - Ironhack Tec...</td>\n",
       "      <td>2022-04-28</td>\n",
       "      <td>12:31:49</td>\n",
       "      <td>https://www.youtube.com/watch?v=yIBpyfJevro</td>\n",
       "    </tr>\n",
       "    <tr>\n",
       "      <th>30</th>\n",
       "      <td>zzxG2o9Hk7s</td>\n",
       "      <td>What is Data Analytics? | Ironhack Barcelona</td>\n",
       "      <td>2022-04-19</td>\n",
       "      <td>14:28:15</td>\n",
       "      <td>https://www.youtube.com/watch?v=zzxG2o9Hk7s</td>\n",
       "    </tr>\n",
       "    <tr>\n",
       "      <th>31</th>\n",
       "      <td>aUSprTm5gH0</td>\n",
       "      <td>BOOTCAMP REVIEW: From Grocery Store Manager to...</td>\n",
       "      <td>2022-03-02</td>\n",
       "      <td>16:03:21</td>\n",
       "      <td>https://www.youtube.com/watch?v=aUSprTm5gH0</td>\n",
       "    </tr>\n",
       "    <tr>\n",
       "      <th>32</th>\n",
       "      <td>RB40D5SvetQ</td>\n",
       "      <td>Defending Networks like a Spartan - Ironhack T...</td>\n",
       "      <td>2022-02-15</td>\n",
       "      <td>21:37:17</td>\n",
       "      <td>https://www.youtube.com/watch?v=RB40D5SvetQ</td>\n",
       "    </tr>\n",
       "    <tr>\n",
       "      <th>33</th>\n",
       "      <td>MRnF9cG5xfw</td>\n",
       "      <td>Thinking like a hacker: How hackers bypass ant...</td>\n",
       "      <td>2022-02-15</td>\n",
       "      <td>19:01:25</td>\n",
       "      <td>https://www.youtube.com/watch?v=MRnF9cG5xfw</td>\n",
       "    </tr>\n",
       "    <tr>\n",
       "      <th>34</th>\n",
       "      <td>_HYA-zYxNKI</td>\n",
       "      <td>Become the hacker of the future - Ironhack Tec...</td>\n",
       "      <td>2022-02-15</td>\n",
       "      <td>18:22:54</td>\n",
       "      <td>https://www.youtube.com/watch?v=_HYA-zYxNKI</td>\n",
       "    </tr>\n",
       "    <tr>\n",
       "      <th>35</th>\n",
       "      <td>e4rDNzlSnRE</td>\n",
       "      <td>Cybersecurity: Risk Management and Strategy - ...</td>\n",
       "      <td>2022-02-15</td>\n",
       "      <td>18:03:56</td>\n",
       "      <td>https://www.youtube.com/watch?v=e4rDNzlSnRE</td>\n",
       "    </tr>\n",
       "    <tr>\n",
       "      <th>36</th>\n",
       "      <td>n505HxMFPkw</td>\n",
       "      <td>Cybersecurity 101: Learn the Basics - Ironhack...</td>\n",
       "      <td>2022-02-15</td>\n",
       "      <td>16:53:29</td>\n",
       "      <td>https://www.youtube.com/watch?v=n505HxMFPkw</td>\n",
       "    </tr>\n",
       "    <tr>\n",
       "      <th>37</th>\n",
       "      <td>KkndlQUhzY8</td>\n",
       "      <td>Ironhack - Conoce cómo funcionan los partnersh...</td>\n",
       "      <td>2022-02-08</td>\n",
       "      <td>14:55:49</td>\n",
       "      <td>https://www.youtube.com/watch?v=KkndlQUhzY8</td>\n",
       "    </tr>\n",
       "    <tr>\n",
       "      <th>38</th>\n",
       "      <td>UdSKUE17RiM</td>\n",
       "      <td>Ironhack Barcelona   UX UI Design Part Time</td>\n",
       "      <td>2022-01-18</td>\n",
       "      <td>22:50:08</td>\n",
       "      <td>https://www.youtube.com/watch?v=UdSKUE17RiM</td>\n",
       "    </tr>\n",
       "    <tr>\n",
       "      <th>39</th>\n",
       "      <td>yIq6ODJRQqc</td>\n",
       "      <td>BOOTCAMP REVIEW: Ironhack UI/UX graduate becom...</td>\n",
       "      <td>2021-12-08</td>\n",
       "      <td>20:58:03</td>\n",
       "      <td>https://www.youtube.com/watch?v=yIq6ODJRQqc</td>\n",
       "    </tr>\n",
       "    <tr>\n",
       "      <th>40</th>\n",
       "      <td>5DbAZkG7v-Q</td>\n",
       "      <td>BOOTCAMP REVIEW: How Keith left the restaurant...</td>\n",
       "      <td>2021-12-06</td>\n",
       "      <td>20:47:01</td>\n",
       "      <td>https://www.youtube.com/watch?v=5DbAZkG7v-Q</td>\n",
       "    </tr>\n",
       "    <tr>\n",
       "      <th>41</th>\n",
       "      <td>PQWrC_11p_A</td>\n",
       "      <td>BOOTCAMP REVIEW: From frustrated Retail Buyer ...</td>\n",
       "      <td>2021-12-06</td>\n",
       "      <td>20:46:47</td>\n",
       "      <td>https://www.youtube.com/watch?v=PQWrC_11p_A</td>\n",
       "    </tr>\n",
       "    <tr>\n",
       "      <th>42</th>\n",
       "      <td>Wy0EIV3cALk</td>\n",
       "      <td>Becas Amazon Despega y Ironhack - Noviembre 2021</td>\n",
       "      <td>2021-11-24</td>\n",
       "      <td>11:59:32</td>\n",
       "      <td>https://www.youtube.com/watch?v=Wy0EIV3cALk</td>\n",
       "    </tr>\n",
       "    <tr>\n",
       "      <th>43</th>\n",
       "      <td>8CsuJCt725Q</td>\n",
       "      <td>Ironhack Global Video</td>\n",
       "      <td>2021-11-17</td>\n",
       "      <td>16:04:12</td>\n",
       "      <td>https://www.youtube.com/watch?v=8CsuJCt725Q</td>\n",
       "    </tr>\n",
       "    <tr>\n",
       "      <th>44</th>\n",
       "      <td>HQoudcUg5AM</td>\n",
       "      <td>Ironhack Testimonial: Entrevista Pau Rodrígue...</td>\n",
       "      <td>2021-09-13</td>\n",
       "      <td>08:25:36</td>\n",
       "      <td>https://www.youtube.com/watch?v=HQoudcUg5AM</td>\n",
       "    </tr>\n",
       "    <tr>\n",
       "      <th>45</th>\n",
       "      <td>ztgI-ncLQok</td>\n",
       "      <td>Ironhack Enterprise - Inês Pereira en Madrid DES</td>\n",
       "      <td>2021-08-05</td>\n",
       "      <td>08:00:30</td>\n",
       "      <td>https://www.youtube.com/watch?v=ztgI-ncLQok</td>\n",
       "    </tr>\n",
       "    <tr>\n",
       "      <th>46</th>\n",
       "      <td>nG6j1wasLU0</td>\n",
       "      <td>Ironhack - Now is the time!</td>\n",
       "      <td>2021-07-27</td>\n",
       "      <td>15:22:35</td>\n",
       "      <td>https://www.youtube.com/watch?v=nG6j1wasLU0</td>\n",
       "    </tr>\n",
       "    <tr>\n",
       "      <th>47</th>\n",
       "      <td>iWUXsJB23K0</td>\n",
       "      <td>Let&amp;#39;s Write Your Story</td>\n",
       "      <td>2021-02-22</td>\n",
       "      <td>17:07:58</td>\n",
       "      <td>https://www.youtube.com/watch?v=iWUXsJB23K0</td>\n",
       "    </tr>\n",
       "    <tr>\n",
       "      <th>48</th>\n",
       "      <td>d1OUnOmEjAs</td>\n",
       "      <td>Let&amp;#39;s Write Your Story with Ironhack</td>\n",
       "      <td>2021-02-18</td>\n",
       "      <td>17:36:15</td>\n",
       "      <td>https://www.youtube.com/watch?v=d1OUnOmEjAs</td>\n",
       "    </tr>\n",
       "    <tr>\n",
       "      <th>49</th>\n",
       "      <td>XodAVdadsic</td>\n",
       "      <td>Study with Ironhack from anywhere!</td>\n",
       "      <td>2020-10-21</td>\n",
       "      <td>16:27:16</td>\n",
       "      <td>https://www.youtube.com/watch?v=XodAVdadsic</td>\n",
       "    </tr>\n",
       "  </tbody>\n",
       "</table>\n",
       "</div>"
      ],
      "text/plain": [
       "       video_id                                        video_title  \\\n",
       "0   0lRyVSDrY4s                     De manucure à développeuse web   \n",
       "1   jBjBEkUZIdY  Machine learning concepts and no code examples...   \n",
       "2   sRT9CJvCY54  Intro to Data Storytelling and Data Visualizat...   \n",
       "3   6HO_NI6k7vI  Intro to web scraping : extracting data from T...   \n",
       "4   gBqfnOV-CIg  Introduction to Decision Trees - Machine Learn...   \n",
       "5   bXPrHLK2yXI        Python for Office: Automating Company Tasks   \n",
       "6   au6AHTk7qzQ  Data Analytics 101: Python Programming Basics ...   \n",
       "7   TdY_Re6eptQ  UX design at TomTom: user centered design in a...   \n",
       "8   GJVbYLUF2QQ  Conversational UX Design: How to Design for Er...   \n",
       "9   d54kz0JO-Kc  Human-centered Design: Beyond Humans - Ironhac...   \n",
       "10  y_mLBYF3xBY  Build user-friendly apps: user flows &amp; wir...   \n",
       "11  Q5QKljfeABA  Conversational UX Design Webinar: Build your O...   \n",
       "12  l3wJt0i6Zsc  Build and Prototype an App using Figma - Ironh...   \n",
       "13  cLlCg9s4OCY  Intro to UX : Customer Journey Mapping - Ironh...   \n",
       "14  kErzoIFSUE0  Looking at the Future — what designers need to...   \n",
       "15  RTwzxIVhthI  An Introduction To The Design Thinking Process...   \n",
       "16  xoqeBwMMVaQ  UI Design crash course with Figma - Ironhack T...   \n",
       "17  47GcI9BgZ4c  ¡Conoce nuestro servicio de carreras! - Ironha...   \n",
       "18  ugNVoNGAAh8  How to Start with Code and Get Hired - Ironhac...   \n",
       "19  S8K3tYu_hII  Ironhack Ed Tech Cofounder Predicts the Future...   \n",
       "20  ZW1XScOjcgQ                        Partnerships Manager Berlin   \n",
       "21  0zlxp_s8vFk  Coding 101: how to write clean code - Ironhack...   \n",
       "22  iqMgAdS4V0M  Build a Budgeting App with Javascript - Ironha...   \n",
       "23  jUK0K0z4wKI  Coding for remote entrepreneurs: build your bu...   \n",
       "24  h7kYRZqzAl8  Build your own Cluedo game with JavaScript - I...   \n",
       "25  R8i2o-O10yI  Intro to Blockchain - Let&#39;s cover (and cod...   \n",
       "26  O9tog2ahXvc  Web Development in a remote environment : Intr...   \n",
       "27  Z6VGDEqPdm0  Build a website in 60 minutes with HTML&amp;CS...   \n",
       "28  wNKkNDPYOjY  Build an e-commerce with JavaScript - Ironhack...   \n",
       "29  yIBpyfJevro  Build a Spotify with JavaScript - Ironhack Tec...   \n",
       "30  zzxG2o9Hk7s       What is Data Analytics? | Ironhack Barcelona   \n",
       "31  aUSprTm5gH0  BOOTCAMP REVIEW: From Grocery Store Manager to...   \n",
       "32  RB40D5SvetQ  Defending Networks like a Spartan - Ironhack T...   \n",
       "33  MRnF9cG5xfw  Thinking like a hacker: How hackers bypass ant...   \n",
       "34  _HYA-zYxNKI  Become the hacker of the future - Ironhack Tec...   \n",
       "35  e4rDNzlSnRE  Cybersecurity: Risk Management and Strategy - ...   \n",
       "36  n505HxMFPkw  Cybersecurity 101: Learn the Basics - Ironhack...   \n",
       "37  KkndlQUhzY8  Ironhack - Conoce cómo funcionan los partnersh...   \n",
       "38  UdSKUE17RiM        Ironhack Barcelona   UX UI Design Part Time   \n",
       "39  yIq6ODJRQqc  BOOTCAMP REVIEW: Ironhack UI/UX graduate becom...   \n",
       "40  5DbAZkG7v-Q  BOOTCAMP REVIEW: How Keith left the restaurant...   \n",
       "41  PQWrC_11p_A  BOOTCAMP REVIEW: From frustrated Retail Buyer ...   \n",
       "42  Wy0EIV3cALk   Becas Amazon Despega y Ironhack - Noviembre 2021   \n",
       "43  8CsuJCt725Q                              Ironhack Global Video   \n",
       "44  HQoudcUg5AM  Ironhack Testimonial: Entrevista Pau Rodrígue...   \n",
       "45  ztgI-ncLQok   Ironhack Enterprise - Inês Pereira en Madrid DES   \n",
       "46  nG6j1wasLU0                        Ironhack - Now is the time!   \n",
       "47  iWUXsJB23K0                         Let&#39;s Write Your Story   \n",
       "48  d1OUnOmEjAs           Let&#39;s Write Your Story with Ironhack   \n",
       "49  XodAVdadsic                 Study with Ironhack from anywhere!   \n",
       "\n",
       "   published_date published_time                                   video_link  \n",
       "0      2022-06-08       14:59:34  https://www.youtube.com/watch?v=0lRyVSDrY4s  \n",
       "1      2022-06-06       10:49:55  https://www.youtube.com/watch?v=jBjBEkUZIdY  \n",
       "2      2022-06-06       10:43:40  https://www.youtube.com/watch?v=sRT9CJvCY54  \n",
       "3      2022-06-06       10:27:38  https://www.youtube.com/watch?v=6HO_NI6k7vI  \n",
       "4      2022-06-06       10:25:08  https://www.youtube.com/watch?v=gBqfnOV-CIg  \n",
       "5      2022-06-06       10:15:26  https://www.youtube.com/watch?v=bXPrHLK2yXI  \n",
       "6      2022-06-06       10:07:37  https://www.youtube.com/watch?v=au6AHTk7qzQ  \n",
       "7      2022-06-06       09:53:30  https://www.youtube.com/watch?v=TdY_Re6eptQ  \n",
       "8      2022-06-06       09:43:35  https://www.youtube.com/watch?v=GJVbYLUF2QQ  \n",
       "9      2022-06-06       09:44:30  https://www.youtube.com/watch?v=d54kz0JO-Kc  \n",
       "10     2022-06-06       09:28:34  https://www.youtube.com/watch?v=y_mLBYF3xBY  \n",
       "11     2022-06-06       09:28:48  https://www.youtube.com/watch?v=Q5QKljfeABA  \n",
       "12     2022-06-06       09:17:57  https://www.youtube.com/watch?v=l3wJt0i6Zsc  \n",
       "13     2022-06-06       09:00:44  https://www.youtube.com/watch?v=cLlCg9s4OCY  \n",
       "14     2022-06-06       08:48:38  https://www.youtube.com/watch?v=kErzoIFSUE0  \n",
       "15     2022-06-06       08:43:49  https://www.youtube.com/watch?v=RTwzxIVhthI  \n",
       "16     2022-05-25       17:13:45  https://www.youtube.com/watch?v=xoqeBwMMVaQ  \n",
       "17     2022-05-25       13:16:12  https://www.youtube.com/watch?v=47GcI9BgZ4c  \n",
       "18     2022-05-24       19:12:46  https://www.youtube.com/watch?v=ugNVoNGAAh8  \n",
       "19     2022-04-28       20:31:05  https://www.youtube.com/watch?v=S8K3tYu_hII  \n",
       "20     2022-04-28       17:20:28  https://www.youtube.com/watch?v=ZW1XScOjcgQ  \n",
       "21     2022-04-28       16:47:17  https://www.youtube.com/watch?v=0zlxp_s8vFk  \n",
       "22     2022-04-28       16:47:07  https://www.youtube.com/watch?v=iqMgAdS4V0M  \n",
       "23     2022-04-28       14:12:48  https://www.youtube.com/watch?v=jUK0K0z4wKI  \n",
       "24     2022-04-28       13:50:33  https://www.youtube.com/watch?v=h7kYRZqzAl8  \n",
       "25     2022-04-28       13:40:14  https://www.youtube.com/watch?v=R8i2o-O10yI  \n",
       "26     2022-04-28       13:28:43  https://www.youtube.com/watch?v=O9tog2ahXvc  \n",
       "27     2022-04-28       13:18:07  https://www.youtube.com/watch?v=Z6VGDEqPdm0  \n",
       "28     2022-04-28       12:36:08  https://www.youtube.com/watch?v=wNKkNDPYOjY  \n",
       "29     2022-04-28       12:31:49  https://www.youtube.com/watch?v=yIBpyfJevro  \n",
       "30     2022-04-19       14:28:15  https://www.youtube.com/watch?v=zzxG2o9Hk7s  \n",
       "31     2022-03-02       16:03:21  https://www.youtube.com/watch?v=aUSprTm5gH0  \n",
       "32     2022-02-15       21:37:17  https://www.youtube.com/watch?v=RB40D5SvetQ  \n",
       "33     2022-02-15       19:01:25  https://www.youtube.com/watch?v=MRnF9cG5xfw  \n",
       "34     2022-02-15       18:22:54  https://www.youtube.com/watch?v=_HYA-zYxNKI  \n",
       "35     2022-02-15       18:03:56  https://www.youtube.com/watch?v=e4rDNzlSnRE  \n",
       "36     2022-02-15       16:53:29  https://www.youtube.com/watch?v=n505HxMFPkw  \n",
       "37     2022-02-08       14:55:49  https://www.youtube.com/watch?v=KkndlQUhzY8  \n",
       "38     2022-01-18       22:50:08  https://www.youtube.com/watch?v=UdSKUE17RiM  \n",
       "39     2021-12-08       20:58:03  https://www.youtube.com/watch?v=yIq6ODJRQqc  \n",
       "40     2021-12-06       20:47:01  https://www.youtube.com/watch?v=5DbAZkG7v-Q  \n",
       "41     2021-12-06       20:46:47  https://www.youtube.com/watch?v=PQWrC_11p_A  \n",
       "42     2021-11-24       11:59:32  https://www.youtube.com/watch?v=Wy0EIV3cALk  \n",
       "43     2021-11-17       16:04:12  https://www.youtube.com/watch?v=8CsuJCt725Q  \n",
       "44     2021-09-13       08:25:36  https://www.youtube.com/watch?v=HQoudcUg5AM  \n",
       "45     2021-08-05       08:00:30  https://www.youtube.com/watch?v=ztgI-ncLQok  \n",
       "46     2021-07-27       15:22:35  https://www.youtube.com/watch?v=nG6j1wasLU0  \n",
       "47     2021-02-22       17:07:58  https://www.youtube.com/watch?v=iWUXsJB23K0  \n",
       "48     2021-02-18       17:36:15  https://www.youtube.com/watch?v=d1OUnOmEjAs  \n",
       "49     2020-10-21       16:27:16  https://www.youtube.com/watch?v=XodAVdadsic  "
      ]
     },
     "execution_count": 98,
     "metadata": {},
     "output_type": "execute_result"
    }
   ],
   "source": [
    "# executing function to get resulting DataFrame: \n",
    "get_videos(video, ironhack_videos)"
   ]
  },
  {
   "cell_type": "markdown",
   "id": "72255b2c-39d2-4057-be2b-c81012ee9454",
   "metadata": {},
   "source": [
    "## Exporting the data to CSV file"
   ]
  },
  {
   "cell_type": "code",
   "execution_count": 99,
   "id": "13df04ab-6a40-4845-b882-6d23c8e9350d",
   "metadata": {},
   "outputs": [],
   "source": [
    "ironhack_videos.to_csv(f'output\\ironhack_videos.csv', index = False)"
   ]
  }
 ],
 "metadata": {
  "kernelspec": {
   "display_name": "Python 3 (ipykernel)",
   "language": "python",
   "name": "python3"
  },
  "language_info": {
   "codemirror_mode": {
    "name": "ipython",
    "version": 3
   },
   "file_extension": ".py",
   "mimetype": "text/x-python",
   "name": "python",
   "nbconvert_exporter": "python",
   "pygments_lexer": "ipython3",
   "version": "3.9.7"
  },
  "toc-autonumbering": false,
  "toc-showcode": false,
  "toc-showmarkdowntxt": false,
  "toc-showtags": false
 },
 "nbformat": 4,
 "nbformat_minor": 5
}
